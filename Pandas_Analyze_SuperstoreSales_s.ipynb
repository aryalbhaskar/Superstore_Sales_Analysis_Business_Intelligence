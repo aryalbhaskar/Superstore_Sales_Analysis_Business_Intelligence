{
 "cells": [
  {
   "cell_type": "markdown",
   "metadata": {},
   "source": [
    "# This HW has the following requirements.\n",
    "\n",
    "- Rename this Jupyter Notebook as yourlastname_firstinitial_HW_Superstoresales.ipynb.\n",
    "- Import **SuperstoreSales.xlsx**.\n",
    "- You should use multiple tables/charts to answer each question. Make sure to demonstrate your skills in both data transformation and data visualization.\n",
    "- Feel free to use multiple cells (more than one) to answer each question.\n",
    "- Don't stop there! For each question, you also need to interpret the table(s) and chart(s). Provide a short summary of the results derived from the table or chart. Include your interpretations in Markdown cells located directly below the tables and charts. You may use bullet points and/or numbers for clarity.\n",
    "\n",
    "Be creative! Be a good storyteller!\n",
    "\n",
    "Note: Some questions are adapted from Teradatauniversitynetwork. Source of data: Tableau.com"
   ]
  },
  {
   "cell_type": "markdown",
   "metadata": {},
   "source": [
    "All laboratory assignments and homework will be evaluated based on three key criteria:\n",
    "\n",
    "1. **Accuracy of Python Code**: Your Python code submissions must be precise and correct.\n",
    "\n",
    "2. **Clarity and Organization of Jupyter Notebook**: \n",
    "\n",
    "- Ensure that your Jupyter notebook is well-structured and neatly organized. \n",
    "- Each Python code snippet should be supplemented with appropriate comments using either the \"#\" symbol or Markdown text.\n",
    "\n",
    "3. **Effective Presentation of Outputs**: Within your Jupyter notebook, make sure all outputs are clearly visible. If necessary, provide explanations for these outputs using Markdown annotations. However, **avoid displaying entire output blocks; instead, display only the initial two to five rows for clarity**.\n",
    "\n",
    "Additionally, all submissions must adhere to the following formatting requirements:\n",
    "\n",
    "- Inclusion of K-State Honor Code: Each laboratory assignment and homework must contain the K-State Honor Code statement: ```\"On my honor, as a student, I have neither given nor received unauthorized aid on this academic work.\"```\n",
    "\n",
    "- Academic Honesty and Consequences: Breach of academic honesty can result in a grade of XF, where \"F\" indicates failure in the course, and \"X\" indicates an Honor Pledge violation. Detailed information can be found at this link: http://www.k-state.edu/provost/resources/teaching/course.htm\n",
    "\n",
    "It's important to note the following prohibitions:\n",
    "\n",
    "- **Unauthorized Collaboration**: Collaborating with other students on laboratory assignments, homework, the midterm exam, or the final project is strictly prohibited.\n",
    "\n",
    "- **Unauthorized Aid**: Sharing your code with other students or receiving code from others is considered unauthorized aid and is not allowed.\n",
    "\n",
    "Adherence to these guidelines will ensure a fair and respectful learning environment and help maintain academic integrity."
   ]
  },
  {
   "cell_type": "markdown",
   "metadata": {},
   "source": [
    "**K-State Honor Code**\n",
    "\n",
    "> \"On my honor, as a student, I have neither given nor received unauthorized aid on this academic work.\"\n",
    "\n",
    "\n",
    "\n",
    "**Your Name:** \n",
    "\n",
    "> Bhaskar Aryal "
   ]
  },
  {
   "cell_type": "code",
   "execution_count": 1,
   "metadata": {},
   "outputs": [],
   "source": [
    "from scipy import stats\n",
    "import seaborn as sns\n",
    "import matplotlib.pyplot as plt\n",
    "import pandas as pd\n",
    "import numpy as np\n",
    "%matplotlib inline\n",
    "\n",
    "pd.set_option('display.max_columns', 500)"
   ]
  },
  {
   "cell_type": "markdown",
   "metadata": {},
   "source": [
    "# Data Preparation"
   ]
  },
  {
   "cell_type": "markdown",
   "metadata": {},
   "source": [
    "## Connect to the Data"
   ]
  },
  {
   "cell_type": "code",
   "execution_count": 2,
   "metadata": {},
   "outputs": [],
   "source": [
    "# Import SuperstoreSales.xlsx\n",
    "df = pd.read_excel('data/SuperstoreSales.xlsx')"
   ]
  },
  {
   "cell_type": "code",
   "execution_count": 3,
   "metadata": {},
   "outputs": [
    {
     "data": {
      "text/plain": [
       "Index(['Order ID', 'Order Date', 'Order Priority', 'Order Quantity', 'Sales',\n",
       "       'Discount', 'Ship Mode', 'Profit', 'Unit Price', 'Shipping Cost',\n",
       "       'Customer Name', 'Customer State', 'Zip Code', 'Region',\n",
       "       'Customer Segment', 'Product Category', 'Product Sub-Category',\n",
       "       'Product Name', 'Product Container', 'Product Base Margin',\n",
       "       'Ship Date'],\n",
       "      dtype='object')"
      ]
     },
     "execution_count": 3,
     "metadata": {},
     "output_type": "execute_result"
    }
   ],
   "source": [
    "# check column names, number of observations, data type\n",
    "df.columns"
   ]
  },
  {
   "cell_type": "markdown",
   "metadata": {},
   "source": [
    "## Rename column names\n",
    "- Remove extra spaces\n",
    "- Lowercase names"
   ]
  },
  {
   "cell_type": "code",
   "execution_count": 4,
   "metadata": {},
   "outputs": [
    {
     "data": {
      "text/plain": [
       "Index(['OrderID', 'OrderDate', 'OrderPriority', 'OrderQuantity', 'Sales',\n",
       "       'Discount', 'ShipMode', 'Profit', 'UnitPrice', 'ShippingCost',\n",
       "       'CustomerName', 'CustomerState', 'ZipCode', 'Region', 'CustomerSegment',\n",
       "       'ProductCategory', 'ProductSub-Category', 'ProductName',\n",
       "       'ProductContainer', 'ProductBaseMargin', 'ShipDate'],\n",
       "      dtype='object')"
      ]
     },
     "execution_count": 4,
     "metadata": {},
     "output_type": "execute_result"
    }
   ],
   "source": [
    "# Remove extra spaces\n",
    "df.columns = df.columns.str.replace(\" \", \"\")\n",
    "df.columns"
   ]
  },
  {
   "cell_type": "code",
   "execution_count": 5,
   "metadata": {},
   "outputs": [
    {
     "data": {
      "text/plain": [
       "Index(['orderid', 'orderdate', 'orderpriority', 'orderquantity', 'sales',\n",
       "       'discount', 'shipmode', 'profit', 'unitprice', 'shippingcost',\n",
       "       'customername', 'customerstate', 'zipcode', 'region', 'customersegment',\n",
       "       'productcategory', 'productsub-category', 'productname',\n",
       "       'productcontainer', 'productbasemargin', 'shipdate'],\n",
       "      dtype='object')"
      ]
     },
     "execution_count": 5,
     "metadata": {},
     "output_type": "execute_result"
    }
   ],
   "source": [
    "# Lowercase names\n",
    "df.columns = df.columns.str.lower()\n",
    "df.columns"
   ]
  },
  {
   "cell_type": "code",
   "execution_count": 6,
   "metadata": {},
   "outputs": [
    {
     "data": {
      "text/plain": [
       "orderid                         int64\n",
       "orderdate              datetime64[ns]\n",
       "orderpriority                  object\n",
       "orderquantity                   int64\n",
       "sales                         float64\n",
       "discount                      float64\n",
       "shipmode                       object\n",
       "profit                        float64\n",
       "unitprice                     float64\n",
       "shippingcost                  float64\n",
       "customername                   object\n",
       "customerstate                  object\n",
       "zipcode                         int64\n",
       "region                         object\n",
       "customersegment                object\n",
       "productcategory                object\n",
       "productsub-category            object\n",
       "productname                    object\n",
       "productcontainer               object\n",
       "productbasemargin             float64\n",
       "shipdate               datetime64[ns]\n",
       "dtype: object"
      ]
     },
     "execution_count": 6,
     "metadata": {},
     "output_type": "execute_result"
    }
   ],
   "source": [
    "df.dtypes"
   ]
  },
  {
   "cell_type": "code",
   "execution_count": 7,
   "metadata": {},
   "outputs": [
    {
     "data": {
      "text/html": [
       "<div>\n",
       "<style scoped>\n",
       "    .dataframe tbody tr th:only-of-type {\n",
       "        vertical-align: middle;\n",
       "    }\n",
       "\n",
       "    .dataframe tbody tr th {\n",
       "        vertical-align: top;\n",
       "    }\n",
       "\n",
       "    .dataframe thead th {\n",
       "        text-align: right;\n",
       "    }\n",
       "</style>\n",
       "<table border=\"1\" class=\"dataframe\">\n",
       "  <thead>\n",
       "    <tr style=\"text-align: right;\">\n",
       "      <th></th>\n",
       "      <th>orderid</th>\n",
       "      <th>orderdate</th>\n",
       "      <th>orderpriority</th>\n",
       "      <th>orderquantity</th>\n",
       "      <th>sales</th>\n",
       "      <th>discount</th>\n",
       "      <th>shipmode</th>\n",
       "      <th>profit</th>\n",
       "      <th>unitprice</th>\n",
       "      <th>shippingcost</th>\n",
       "      <th>customername</th>\n",
       "      <th>customerstate</th>\n",
       "      <th>zipcode</th>\n",
       "      <th>region</th>\n",
       "      <th>customersegment</th>\n",
       "      <th>productcategory</th>\n",
       "      <th>productsub-category</th>\n",
       "      <th>productname</th>\n",
       "      <th>productcontainer</th>\n",
       "      <th>productbasemargin</th>\n",
       "      <th>shipdate</th>\n",
       "    </tr>\n",
       "  </thead>\n",
       "  <tbody>\n",
       "    <tr>\n",
       "      <th>0</th>\n",
       "      <td>3</td>\n",
       "      <td>2010-08-26</td>\n",
       "      <td>Low</td>\n",
       "      <td>6</td>\n",
       "      <td>261.5400</td>\n",
       "      <td>0.04</td>\n",
       "      <td>Regular Air</td>\n",
       "      <td>-213.250</td>\n",
       "      <td>38.94</td>\n",
       "      <td>35.00</td>\n",
       "      <td>Muhammed MacIntyre</td>\n",
       "      <td>New Jersey</td>\n",
       "      <td>7514</td>\n",
       "      <td>East</td>\n",
       "      <td>Small Business</td>\n",
       "      <td>Office Supplies</td>\n",
       "      <td>Storage &amp; Organization</td>\n",
       "      <td>Eldon Base for stackable storage shelf, platinum</td>\n",
       "      <td>Large Box</td>\n",
       "      <td>0.80</td>\n",
       "      <td>2010-09-02</td>\n",
       "    </tr>\n",
       "    <tr>\n",
       "      <th>1</th>\n",
       "      <td>6</td>\n",
       "      <td>2012-01-03</td>\n",
       "      <td>Not Specified</td>\n",
       "      <td>2</td>\n",
       "      <td>6.9300</td>\n",
       "      <td>0.01</td>\n",
       "      <td>Regular Air</td>\n",
       "      <td>-4.640</td>\n",
       "      <td>2.08</td>\n",
       "      <td>2.56</td>\n",
       "      <td>Ruben Dartt</td>\n",
       "      <td>New York</td>\n",
       "      <td>10457</td>\n",
       "      <td>East</td>\n",
       "      <td>Corporate</td>\n",
       "      <td>Office Supplies</td>\n",
       "      <td>Scissors, Rulers and Trimmers</td>\n",
       "      <td>Kleencut® Forged Office Shears by Acme United ...</td>\n",
       "      <td>Small Pack</td>\n",
       "      <td>0.55</td>\n",
       "      <td>2012-01-04</td>\n",
       "    </tr>\n",
       "    <tr>\n",
       "      <th>2</th>\n",
       "      <td>32</td>\n",
       "      <td>2011-05-28</td>\n",
       "      <td>High</td>\n",
       "      <td>15</td>\n",
       "      <td>140.5600</td>\n",
       "      <td>0.04</td>\n",
       "      <td>Regular Air</td>\n",
       "      <td>-128.380</td>\n",
       "      <td>8.46</td>\n",
       "      <td>8.99</td>\n",
       "      <td>Liz Pelletier</td>\n",
       "      <td>Ohio</td>\n",
       "      <td>44197</td>\n",
       "      <td>Central</td>\n",
       "      <td>Corporate</td>\n",
       "      <td>Technology</td>\n",
       "      <td>Computer Peripherals</td>\n",
       "      <td>Imation 3.5 IBM Diskettes, 10/Box</td>\n",
       "      <td>Small Pack</td>\n",
       "      <td>0.79</td>\n",
       "      <td>2011-05-29</td>\n",
       "    </tr>\n",
       "    <tr>\n",
       "      <th>3</th>\n",
       "      <td>32</td>\n",
       "      <td>2011-05-28</td>\n",
       "      <td>High</td>\n",
       "      <td>24</td>\n",
       "      <td>1761.4000</td>\n",
       "      <td>0.09</td>\n",
       "      <td>Delivery Truck</td>\n",
       "      <td>-1748.560</td>\n",
       "      <td>70.89</td>\n",
       "      <td>89.30</td>\n",
       "      <td>Liz Pelletier</td>\n",
       "      <td>Ohio</td>\n",
       "      <td>44197</td>\n",
       "      <td>Central</td>\n",
       "      <td>Corporate</td>\n",
       "      <td>Furniture</td>\n",
       "      <td>Tables</td>\n",
       "      <td>KI Conference Tables</td>\n",
       "      <td>Jumbo Box</td>\n",
       "      <td>0.72</td>\n",
       "      <td>2011-05-29</td>\n",
       "    </tr>\n",
       "    <tr>\n",
       "      <th>4</th>\n",
       "      <td>32</td>\n",
       "      <td>2011-05-28</td>\n",
       "      <td>High</td>\n",
       "      <td>23</td>\n",
       "      <td>160.2335</td>\n",
       "      <td>0.04</td>\n",
       "      <td>Regular Air</td>\n",
       "      <td>-85.129</td>\n",
       "      <td>7.99</td>\n",
       "      <td>5.03</td>\n",
       "      <td>Liz Pelletier</td>\n",
       "      <td>Ohio</td>\n",
       "      <td>44197</td>\n",
       "      <td>Central</td>\n",
       "      <td>Corporate</td>\n",
       "      <td>Technology</td>\n",
       "      <td>Telephones and Communication</td>\n",
       "      <td>Bell Sonecor JB700 Caller ID</td>\n",
       "      <td>Medium Box</td>\n",
       "      <td>0.60</td>\n",
       "      <td>2011-05-30</td>\n",
       "    </tr>\n",
       "  </tbody>\n",
       "</table>\n",
       "</div>"
      ],
      "text/plain": [
       "   orderid  orderdate  orderpriority  orderquantity      sales  discount  \\\n",
       "0        3 2010-08-26            Low              6   261.5400      0.04   \n",
       "1        6 2012-01-03  Not Specified              2     6.9300      0.01   \n",
       "2       32 2011-05-28           High             15   140.5600      0.04   \n",
       "3       32 2011-05-28           High             24  1761.4000      0.09   \n",
       "4       32 2011-05-28           High             23   160.2335      0.04   \n",
       "\n",
       "         shipmode    profit  unitprice  shippingcost        customername  \\\n",
       "0     Regular Air  -213.250      38.94         35.00  Muhammed MacIntyre   \n",
       "1     Regular Air    -4.640       2.08          2.56         Ruben Dartt   \n",
       "2     Regular Air  -128.380       8.46          8.99       Liz Pelletier   \n",
       "3  Delivery Truck -1748.560      70.89         89.30       Liz Pelletier   \n",
       "4     Regular Air   -85.129       7.99          5.03       Liz Pelletier   \n",
       "\n",
       "  customerstate  zipcode   region customersegment  productcategory  \\\n",
       "0    New Jersey     7514     East  Small Business  Office Supplies   \n",
       "1      New York    10457     East       Corporate  Office Supplies   \n",
       "2          Ohio    44197  Central       Corporate       Technology   \n",
       "3          Ohio    44197  Central       Corporate        Furniture   \n",
       "4          Ohio    44197  Central       Corporate       Technology   \n",
       "\n",
       "             productsub-category  \\\n",
       "0         Storage & Organization   \n",
       "1  Scissors, Rulers and Trimmers   \n",
       "2           Computer Peripherals   \n",
       "3                         Tables   \n",
       "4   Telephones and Communication   \n",
       "\n",
       "                                         productname productcontainer  \\\n",
       "0   Eldon Base for stackable storage shelf, platinum        Large Box   \n",
       "1  Kleencut® Forged Office Shears by Acme United ...       Small Pack   \n",
       "2                  Imation 3.5 IBM Diskettes, 10/Box       Small Pack   \n",
       "3                               KI Conference Tables        Jumbo Box   \n",
       "4                       Bell Sonecor JB700 Caller ID       Medium Box   \n",
       "\n",
       "   productbasemargin   shipdate  \n",
       "0               0.80 2010-09-02  \n",
       "1               0.55 2012-01-04  \n",
       "2               0.79 2011-05-29  \n",
       "3               0.72 2011-05-29  \n",
       "4               0.60 2011-05-30  "
      ]
     },
     "execution_count": 7,
     "metadata": {},
     "output_type": "execute_result"
    }
   ],
   "source": [
    "# change to pandas date time \n",
    "df['orderdate'] = pd.to_datetime(df['orderdate'])\n",
    "df.head()"
   ]
  },
  {
   "cell_type": "code",
   "execution_count": 8,
   "metadata": {},
   "outputs": [
    {
     "data": {
      "text/plain": [
       "orderid                         int64\n",
       "orderdate              datetime64[ns]\n",
       "orderpriority                  object\n",
       "orderquantity                   int64\n",
       "sales                         float64\n",
       "discount                      float64\n",
       "shipmode                       object\n",
       "profit                        float64\n",
       "unitprice                     float64\n",
       "shippingcost                  float64\n",
       "customername                   object\n",
       "customerstate                  object\n",
       "zipcode                         int64\n",
       "region                         object\n",
       "customersegment                object\n",
       "productcategory                object\n",
       "productsub-category            object\n",
       "productname                    object\n",
       "productcontainer               object\n",
       "productbasemargin             float64\n",
       "shipdate               datetime64[ns]\n",
       "dtype: object"
      ]
     },
     "execution_count": 8,
     "metadata": {},
     "output_type": "execute_result"
    }
   ],
   "source": [
    "# Check if the order data is a pandas date time format \n",
    "df.dtypes"
   ]
  },
  {
   "cell_type": "markdown",
   "metadata": {},
   "source": [
    "## Inspect data"
   ]
  },
  {
   "cell_type": "code",
   "execution_count": 9,
   "metadata": {},
   "outputs": [
    {
     "data": {
      "text/plain": [
       "orderid                0\n",
       "orderdate              0\n",
       "orderpriority          0\n",
       "orderquantity          0\n",
       "sales                  0\n",
       "discount               0\n",
       "shipmode               0\n",
       "profit                 0\n",
       "unitprice              0\n",
       "shippingcost           0\n",
       "customername           0\n",
       "customerstate          0\n",
       "zipcode                0\n",
       "region                 0\n",
       "customersegment        0\n",
       "productcategory        0\n",
       "productsub-category    0\n",
       "productname            0\n",
       "productcontainer       0\n",
       "productbasemargin      0\n",
       "shipdate               0\n",
       "dtype: int64"
      ]
     },
     "execution_count": 9,
     "metadata": {},
     "output_type": "execute_result"
    }
   ],
   "source": [
    "# check missing values\n",
    "df.isna().sum()"
   ]
  },
  {
   "cell_type": "code",
   "execution_count": 10,
   "metadata": {},
   "outputs": [
    {
     "data": {
      "text/html": [
       "<div>\n",
       "<style scoped>\n",
       "    .dataframe tbody tr th:only-of-type {\n",
       "        vertical-align: middle;\n",
       "    }\n",
       "\n",
       "    .dataframe tbody tr th {\n",
       "        vertical-align: top;\n",
       "    }\n",
       "\n",
       "    .dataframe thead th {\n",
       "        text-align: right;\n",
       "    }\n",
       "</style>\n",
       "<table border=\"1\" class=\"dataframe\">\n",
       "  <thead>\n",
       "    <tr style=\"text-align: right;\">\n",
       "      <th></th>\n",
       "      <th>orderid</th>\n",
       "      <th>orderquantity</th>\n",
       "      <th>sales</th>\n",
       "      <th>discount</th>\n",
       "      <th>profit</th>\n",
       "      <th>unitprice</th>\n",
       "      <th>shippingcost</th>\n",
       "      <th>zipcode</th>\n",
       "      <th>productbasemargin</th>\n",
       "    </tr>\n",
       "  </thead>\n",
       "  <tbody>\n",
       "    <tr>\n",
       "      <th>count</th>\n",
       "      <td>8399.000000</td>\n",
       "      <td>8399.000000</td>\n",
       "      <td>8399.000000</td>\n",
       "      <td>8399.000000</td>\n",
       "      <td>8399.000000</td>\n",
       "      <td>8399.000000</td>\n",
       "      <td>8399.000000</td>\n",
       "      <td>8399.000000</td>\n",
       "      <td>8399.000000</td>\n",
       "    </tr>\n",
       "    <tr>\n",
       "      <th>mean</th>\n",
       "      <td>29965.179783</td>\n",
       "      <td>25.575426</td>\n",
       "      <td>1774.860490</td>\n",
       "      <td>0.049664</td>\n",
       "      <td>181.401194</td>\n",
       "      <td>89.310426</td>\n",
       "      <td>12.856427</td>\n",
       "      <td>48256.097631</td>\n",
       "      <td>0.512886</td>\n",
       "    </tr>\n",
       "    <tr>\n",
       "      <th>std</th>\n",
       "      <td>17260.883447</td>\n",
       "      <td>14.482837</td>\n",
       "      <td>3585.107345</td>\n",
       "      <td>0.031826</td>\n",
       "      <td>1224.670845</td>\n",
       "      <td>290.361311</td>\n",
       "      <td>17.318257</td>\n",
       "      <td>30689.098271</td>\n",
       "      <td>0.135991</td>\n",
       "    </tr>\n",
       "    <tr>\n",
       "      <th>min</th>\n",
       "      <td>3.000000</td>\n",
       "      <td>1.000000</td>\n",
       "      <td>2.240000</td>\n",
       "      <td>0.000000</td>\n",
       "      <td>-16253.680000</td>\n",
       "      <td>0.990000</td>\n",
       "      <td>0.490000</td>\n",
       "      <td>501.000000</td>\n",
       "      <td>0.350000</td>\n",
       "    </tr>\n",
       "    <tr>\n",
       "      <th>25%</th>\n",
       "      <td>15011.500000</td>\n",
       "      <td>13.000000</td>\n",
       "      <td>143.035000</td>\n",
       "      <td>0.020000</td>\n",
       "      <td>-82.764250</td>\n",
       "      <td>6.480000</td>\n",
       "      <td>3.300000</td>\n",
       "      <td>21794.000000</td>\n",
       "      <td>0.380000</td>\n",
       "    </tr>\n",
       "    <tr>\n",
       "      <th>50%</th>\n",
       "      <td>29857.000000</td>\n",
       "      <td>26.000000</td>\n",
       "      <td>449.420000</td>\n",
       "      <td>0.050000</td>\n",
       "      <td>-1.490000</td>\n",
       "      <td>20.990000</td>\n",
       "      <td>6.070000</td>\n",
       "      <td>43317.000000</td>\n",
       "      <td>0.520000</td>\n",
       "    </tr>\n",
       "    <tr>\n",
       "      <th>75%</th>\n",
       "      <td>44596.000000</td>\n",
       "      <td>38.000000</td>\n",
       "      <td>1706.285000</td>\n",
       "      <td>0.080000</td>\n",
       "      <td>166.712250</td>\n",
       "      <td>85.990000</td>\n",
       "      <td>13.990000</td>\n",
       "      <td>81221.000000</td>\n",
       "      <td>0.590000</td>\n",
       "    </tr>\n",
       "    <tr>\n",
       "      <th>max</th>\n",
       "      <td>59973.000000</td>\n",
       "      <td>50.000000</td>\n",
       "      <td>89061.050000</td>\n",
       "      <td>0.250000</td>\n",
       "      <td>27220.690000</td>\n",
       "      <td>6783.020000</td>\n",
       "      <td>164.730000</td>\n",
       "      <td>99403.000000</td>\n",
       "      <td>0.850000</td>\n",
       "    </tr>\n",
       "  </tbody>\n",
       "</table>\n",
       "</div>"
      ],
      "text/plain": [
       "            orderid  orderquantity         sales     discount        profit  \\\n",
       "count   8399.000000    8399.000000   8399.000000  8399.000000   8399.000000   \n",
       "mean   29965.179783      25.575426   1774.860490     0.049664    181.401194   \n",
       "std    17260.883447      14.482837   3585.107345     0.031826   1224.670845   \n",
       "min        3.000000       1.000000      2.240000     0.000000 -16253.680000   \n",
       "25%    15011.500000      13.000000    143.035000     0.020000    -82.764250   \n",
       "50%    29857.000000      26.000000    449.420000     0.050000     -1.490000   \n",
       "75%    44596.000000      38.000000   1706.285000     0.080000    166.712250   \n",
       "max    59973.000000      50.000000  89061.050000     0.250000  27220.690000   \n",
       "\n",
       "         unitprice  shippingcost       zipcode  productbasemargin  \n",
       "count  8399.000000   8399.000000   8399.000000        8399.000000  \n",
       "mean     89.310426     12.856427  48256.097631           0.512886  \n",
       "std     290.361311     17.318257  30689.098271           0.135991  \n",
       "min       0.990000      0.490000    501.000000           0.350000  \n",
       "25%       6.480000      3.300000  21794.000000           0.380000  \n",
       "50%      20.990000      6.070000  43317.000000           0.520000  \n",
       "75%      85.990000     13.990000  81221.000000           0.590000  \n",
       "max    6783.020000    164.730000  99403.000000           0.850000  "
      ]
     },
     "execution_count": 10,
     "metadata": {},
     "output_type": "execute_result"
    }
   ],
   "source": [
    "# summary statistics\n",
    "df.describe()"
   ]
  },
  {
   "cell_type": "markdown",
   "metadata": {},
   "source": [
    "## Indexing "
   ]
  },
  {
   "cell_type": "code",
   "execution_count": 11,
   "metadata": {},
   "outputs": [
    {
     "data": {
      "text/plain": [
       "RangeIndex(start=0, stop=8399, step=1)"
      ]
     },
     "execution_count": 11,
     "metadata": {},
     "output_type": "execute_result"
    }
   ],
   "source": [
    "# index is like primary key in database (unique number assigned to each observation)\n",
    "# check index column\n",
    "df.index"
   ]
  },
  {
   "cell_type": "code",
   "execution_count": 12,
   "metadata": {},
   "outputs": [
    {
     "data": {
      "text/html": [
       "<div>\n",
       "<style scoped>\n",
       "    .dataframe tbody tr th:only-of-type {\n",
       "        vertical-align: middle;\n",
       "    }\n",
       "\n",
       "    .dataframe tbody tr th {\n",
       "        vertical-align: top;\n",
       "    }\n",
       "\n",
       "    .dataframe thead th {\n",
       "        text-align: right;\n",
       "    }\n",
       "</style>\n",
       "<table border=\"1\" class=\"dataframe\">\n",
       "  <thead>\n",
       "    <tr style=\"text-align: right;\">\n",
       "      <th></th>\n",
       "      <th>orderid</th>\n",
       "      <th>orderpriority</th>\n",
       "      <th>orderquantity</th>\n",
       "      <th>sales</th>\n",
       "      <th>discount</th>\n",
       "      <th>shipmode</th>\n",
       "      <th>profit</th>\n",
       "      <th>unitprice</th>\n",
       "      <th>shippingcost</th>\n",
       "      <th>customername</th>\n",
       "      <th>customerstate</th>\n",
       "      <th>zipcode</th>\n",
       "      <th>region</th>\n",
       "      <th>customersegment</th>\n",
       "      <th>productcategory</th>\n",
       "      <th>productsub-category</th>\n",
       "      <th>productname</th>\n",
       "      <th>productcontainer</th>\n",
       "      <th>productbasemargin</th>\n",
       "      <th>shipdate</th>\n",
       "    </tr>\n",
       "    <tr>\n",
       "      <th>orderdate</th>\n",
       "      <th></th>\n",
       "      <th></th>\n",
       "      <th></th>\n",
       "      <th></th>\n",
       "      <th></th>\n",
       "      <th></th>\n",
       "      <th></th>\n",
       "      <th></th>\n",
       "      <th></th>\n",
       "      <th></th>\n",
       "      <th></th>\n",
       "      <th></th>\n",
       "      <th></th>\n",
       "      <th></th>\n",
       "      <th></th>\n",
       "      <th></th>\n",
       "      <th></th>\n",
       "      <th></th>\n",
       "      <th></th>\n",
       "      <th></th>\n",
       "    </tr>\n",
       "  </thead>\n",
       "  <tbody>\n",
       "    <tr>\n",
       "      <th>2010-08-26</th>\n",
       "      <td>3</td>\n",
       "      <td>Low</td>\n",
       "      <td>6</td>\n",
       "      <td>261.5400</td>\n",
       "      <td>0.04</td>\n",
       "      <td>Regular Air</td>\n",
       "      <td>-213.250</td>\n",
       "      <td>38.94</td>\n",
       "      <td>35.00</td>\n",
       "      <td>Muhammed MacIntyre</td>\n",
       "      <td>New Jersey</td>\n",
       "      <td>7514</td>\n",
       "      <td>East</td>\n",
       "      <td>Small Business</td>\n",
       "      <td>Office Supplies</td>\n",
       "      <td>Storage &amp; Organization</td>\n",
       "      <td>Eldon Base for stackable storage shelf, platinum</td>\n",
       "      <td>Large Box</td>\n",
       "      <td>0.80</td>\n",
       "      <td>2010-09-02</td>\n",
       "    </tr>\n",
       "    <tr>\n",
       "      <th>2012-01-03</th>\n",
       "      <td>6</td>\n",
       "      <td>Not Specified</td>\n",
       "      <td>2</td>\n",
       "      <td>6.9300</td>\n",
       "      <td>0.01</td>\n",
       "      <td>Regular Air</td>\n",
       "      <td>-4.640</td>\n",
       "      <td>2.08</td>\n",
       "      <td>2.56</td>\n",
       "      <td>Ruben Dartt</td>\n",
       "      <td>New York</td>\n",
       "      <td>10457</td>\n",
       "      <td>East</td>\n",
       "      <td>Corporate</td>\n",
       "      <td>Office Supplies</td>\n",
       "      <td>Scissors, Rulers and Trimmers</td>\n",
       "      <td>Kleencut® Forged Office Shears by Acme United ...</td>\n",
       "      <td>Small Pack</td>\n",
       "      <td>0.55</td>\n",
       "      <td>2012-01-04</td>\n",
       "    </tr>\n",
       "    <tr>\n",
       "      <th>2011-05-28</th>\n",
       "      <td>32</td>\n",
       "      <td>High</td>\n",
       "      <td>15</td>\n",
       "      <td>140.5600</td>\n",
       "      <td>0.04</td>\n",
       "      <td>Regular Air</td>\n",
       "      <td>-128.380</td>\n",
       "      <td>8.46</td>\n",
       "      <td>8.99</td>\n",
       "      <td>Liz Pelletier</td>\n",
       "      <td>Ohio</td>\n",
       "      <td>44197</td>\n",
       "      <td>Central</td>\n",
       "      <td>Corporate</td>\n",
       "      <td>Technology</td>\n",
       "      <td>Computer Peripherals</td>\n",
       "      <td>Imation 3.5 IBM Diskettes, 10/Box</td>\n",
       "      <td>Small Pack</td>\n",
       "      <td>0.79</td>\n",
       "      <td>2011-05-29</td>\n",
       "    </tr>\n",
       "    <tr>\n",
       "      <th>2011-05-28</th>\n",
       "      <td>32</td>\n",
       "      <td>High</td>\n",
       "      <td>24</td>\n",
       "      <td>1761.4000</td>\n",
       "      <td>0.09</td>\n",
       "      <td>Delivery Truck</td>\n",
       "      <td>-1748.560</td>\n",
       "      <td>70.89</td>\n",
       "      <td>89.30</td>\n",
       "      <td>Liz Pelletier</td>\n",
       "      <td>Ohio</td>\n",
       "      <td>44197</td>\n",
       "      <td>Central</td>\n",
       "      <td>Corporate</td>\n",
       "      <td>Furniture</td>\n",
       "      <td>Tables</td>\n",
       "      <td>KI Conference Tables</td>\n",
       "      <td>Jumbo Box</td>\n",
       "      <td>0.72</td>\n",
       "      <td>2011-05-29</td>\n",
       "    </tr>\n",
       "    <tr>\n",
       "      <th>2011-05-28</th>\n",
       "      <td>32</td>\n",
       "      <td>High</td>\n",
       "      <td>23</td>\n",
       "      <td>160.2335</td>\n",
       "      <td>0.04</td>\n",
       "      <td>Regular Air</td>\n",
       "      <td>-85.129</td>\n",
       "      <td>7.99</td>\n",
       "      <td>5.03</td>\n",
       "      <td>Liz Pelletier</td>\n",
       "      <td>Ohio</td>\n",
       "      <td>44197</td>\n",
       "      <td>Central</td>\n",
       "      <td>Corporate</td>\n",
       "      <td>Technology</td>\n",
       "      <td>Telephones and Communication</td>\n",
       "      <td>Bell Sonecor JB700 Caller ID</td>\n",
       "      <td>Medium Box</td>\n",
       "      <td>0.60</td>\n",
       "      <td>2011-05-30</td>\n",
       "    </tr>\n",
       "  </tbody>\n",
       "</table>\n",
       "</div>"
      ],
      "text/plain": [
       "            orderid  orderpriority  orderquantity      sales  discount  \\\n",
       "orderdate                                                                \n",
       "2010-08-26        3            Low              6   261.5400      0.04   \n",
       "2012-01-03        6  Not Specified              2     6.9300      0.01   \n",
       "2011-05-28       32           High             15   140.5600      0.04   \n",
       "2011-05-28       32           High             24  1761.4000      0.09   \n",
       "2011-05-28       32           High             23   160.2335      0.04   \n",
       "\n",
       "                  shipmode    profit  unitprice  shippingcost  \\\n",
       "orderdate                                                       \n",
       "2010-08-26     Regular Air  -213.250      38.94         35.00   \n",
       "2012-01-03     Regular Air    -4.640       2.08          2.56   \n",
       "2011-05-28     Regular Air  -128.380       8.46          8.99   \n",
       "2011-05-28  Delivery Truck -1748.560      70.89         89.30   \n",
       "2011-05-28     Regular Air   -85.129       7.99          5.03   \n",
       "\n",
       "                  customername customerstate  zipcode   region  \\\n",
       "orderdate                                                        \n",
       "2010-08-26  Muhammed MacIntyre    New Jersey     7514     East   \n",
       "2012-01-03         Ruben Dartt      New York    10457     East   \n",
       "2011-05-28       Liz Pelletier          Ohio    44197  Central   \n",
       "2011-05-28       Liz Pelletier          Ohio    44197  Central   \n",
       "2011-05-28       Liz Pelletier          Ohio    44197  Central   \n",
       "\n",
       "           customersegment  productcategory            productsub-category  \\\n",
       "orderdate                                                                    \n",
       "2010-08-26  Small Business  Office Supplies         Storage & Organization   \n",
       "2012-01-03       Corporate  Office Supplies  Scissors, Rulers and Trimmers   \n",
       "2011-05-28       Corporate       Technology           Computer Peripherals   \n",
       "2011-05-28       Corporate        Furniture                         Tables   \n",
       "2011-05-28       Corporate       Technology   Telephones and Communication   \n",
       "\n",
       "                                                  productname  \\\n",
       "orderdate                                                       \n",
       "2010-08-26   Eldon Base for stackable storage shelf, platinum   \n",
       "2012-01-03  Kleencut® Forged Office Shears by Acme United ...   \n",
       "2011-05-28                  Imation 3.5 IBM Diskettes, 10/Box   \n",
       "2011-05-28                               KI Conference Tables   \n",
       "2011-05-28                       Bell Sonecor JB700 Caller ID   \n",
       "\n",
       "           productcontainer  productbasemargin   shipdate  \n",
       "orderdate                                                  \n",
       "2010-08-26        Large Box               0.80 2010-09-02  \n",
       "2012-01-03       Small Pack               0.55 2012-01-04  \n",
       "2011-05-28       Small Pack               0.79 2011-05-29  \n",
       "2011-05-28        Jumbo Box               0.72 2011-05-29  \n",
       "2011-05-28       Medium Box               0.60 2011-05-30  "
      ]
     },
     "execution_count": 12,
     "metadata": {},
     "output_type": "execute_result"
    }
   ],
   "source": [
    "# then set datetime [date] column as index (primary key). This is for time series analysis below.\n",
    "# orderdate\n",
    "df = df.set_index('orderdate')\n",
    "df.head()"
   ]
  },
  {
   "cell_type": "code",
   "execution_count": 13,
   "metadata": {},
   "outputs": [
    {
     "data": {
      "text/html": [
       "<div>\n",
       "<style scoped>\n",
       "    .dataframe tbody tr th:only-of-type {\n",
       "        vertical-align: middle;\n",
       "    }\n",
       "\n",
       "    .dataframe tbody tr th {\n",
       "        vertical-align: top;\n",
       "    }\n",
       "\n",
       "    .dataframe thead th {\n",
       "        text-align: right;\n",
       "    }\n",
       "</style>\n",
       "<table border=\"1\" class=\"dataframe\">\n",
       "  <thead>\n",
       "    <tr style=\"text-align: right;\">\n",
       "      <th></th>\n",
       "      <th>orderid</th>\n",
       "      <th>orderpriority</th>\n",
       "      <th>orderquantity</th>\n",
       "      <th>sales</th>\n",
       "      <th>discount</th>\n",
       "      <th>shipmode</th>\n",
       "      <th>profit</th>\n",
       "      <th>unitprice</th>\n",
       "      <th>shippingcost</th>\n",
       "      <th>customername</th>\n",
       "      <th>customerstate</th>\n",
       "      <th>zipcode</th>\n",
       "      <th>region</th>\n",
       "      <th>customersegment</th>\n",
       "      <th>productcategory</th>\n",
       "      <th>productsub-category</th>\n",
       "      <th>productname</th>\n",
       "      <th>productcontainer</th>\n",
       "      <th>productbasemargin</th>\n",
       "      <th>shipdate</th>\n",
       "    </tr>\n",
       "    <tr>\n",
       "      <th>orderdate</th>\n",
       "      <th></th>\n",
       "      <th></th>\n",
       "      <th></th>\n",
       "      <th></th>\n",
       "      <th></th>\n",
       "      <th></th>\n",
       "      <th></th>\n",
       "      <th></th>\n",
       "      <th></th>\n",
       "      <th></th>\n",
       "      <th></th>\n",
       "      <th></th>\n",
       "      <th></th>\n",
       "      <th></th>\n",
       "      <th></th>\n",
       "      <th></th>\n",
       "      <th></th>\n",
       "      <th></th>\n",
       "      <th></th>\n",
       "      <th></th>\n",
       "    </tr>\n",
       "  </thead>\n",
       "  <tbody>\n",
       "    <tr>\n",
       "      <th>2008-11-13</th>\n",
       "      <td>32418</td>\n",
       "      <td>Not Specified</td>\n",
       "      <td>5</td>\n",
       "      <td>1244.190</td>\n",
       "      <td>0.08</td>\n",
       "      <td>Delivery Truck</td>\n",
       "      <td>-131.3100</td>\n",
       "      <td>243.98</td>\n",
       "      <td>43.32</td>\n",
       "      <td>Marina Lichtenstein</td>\n",
       "      <td>Michigan</td>\n",
       "      <td>49642</td>\n",
       "      <td>Central</td>\n",
       "      <td>Corporate</td>\n",
       "      <td>Furniture</td>\n",
       "      <td>Chairs &amp; Chairmats</td>\n",
       "      <td>Hon Deluxe Fabric Upholstered Stacking Chairs,...</td>\n",
       "      <td>Jumbo Drum</td>\n",
       "      <td>0.55</td>\n",
       "      <td>2008-11-14</td>\n",
       "    </tr>\n",
       "    <tr>\n",
       "      <th>2008-11-13</th>\n",
       "      <td>1028</td>\n",
       "      <td>High</td>\n",
       "      <td>6</td>\n",
       "      <td>165.750</td>\n",
       "      <td>0.03</td>\n",
       "      <td>Regular Air</td>\n",
       "      <td>-28.4600</td>\n",
       "      <td>28.48</td>\n",
       "      <td>1.99</td>\n",
       "      <td>Matt Collins</td>\n",
       "      <td>Michigan</td>\n",
       "      <td>48001</td>\n",
       "      <td>Central</td>\n",
       "      <td>Consumer</td>\n",
       "      <td>Technology</td>\n",
       "      <td>Computer Peripherals</td>\n",
       "      <td>Memorex 4.7GB DVD+RW, 3/Pack</td>\n",
       "      <td>Small Pack</td>\n",
       "      <td>0.40</td>\n",
       "      <td>2008-11-14</td>\n",
       "    </tr>\n",
       "    <tr>\n",
       "      <th>2008-11-13</th>\n",
       "      <td>1028</td>\n",
       "      <td>High</td>\n",
       "      <td>11</td>\n",
       "      <td>2021.147</td>\n",
       "      <td>0.01</td>\n",
       "      <td>Regular Air</td>\n",
       "      <td>-60.3900</td>\n",
       "      <td>205.99</td>\n",
       "      <td>5.99</td>\n",
       "      <td>Matt Collins</td>\n",
       "      <td>Michigan</td>\n",
       "      <td>48001</td>\n",
       "      <td>Central</td>\n",
       "      <td>Consumer</td>\n",
       "      <td>Technology</td>\n",
       "      <td>Telephones and Communication</td>\n",
       "      <td>3285</td>\n",
       "      <td>Small Box</td>\n",
       "      <td>0.59</td>\n",
       "      <td>2008-11-15</td>\n",
       "    </tr>\n",
       "    <tr>\n",
       "      <th>2008-11-13</th>\n",
       "      <td>57253</td>\n",
       "      <td>Critical</td>\n",
       "      <td>29</td>\n",
       "      <td>653.540</td>\n",
       "      <td>0.06</td>\n",
       "      <td>Delivery Truck</td>\n",
       "      <td>-1358.9000</td>\n",
       "      <td>20.98</td>\n",
       "      <td>53.03</td>\n",
       "      <td>Darren Budd</td>\n",
       "      <td>Texas</td>\n",
       "      <td>73301</td>\n",
       "      <td>Central</td>\n",
       "      <td>Consumer</td>\n",
       "      <td>Office Supplies</td>\n",
       "      <td>Storage &amp; Organization</td>\n",
       "      <td>Tennsco Lockers, Gray</td>\n",
       "      <td>Jumbo Drum</td>\n",
       "      <td>0.78</td>\n",
       "      <td>2008-11-15</td>\n",
       "    </tr>\n",
       "    <tr>\n",
       "      <th>2008-11-13</th>\n",
       "      <td>57253</td>\n",
       "      <td>Critical</td>\n",
       "      <td>49</td>\n",
       "      <td>240.300</td>\n",
       "      <td>0.08</td>\n",
       "      <td>Regular Air</td>\n",
       "      <td>-154.6175</td>\n",
       "      <td>4.91</td>\n",
       "      <td>5.68</td>\n",
       "      <td>Darren Budd</td>\n",
       "      <td>Texas</td>\n",
       "      <td>73301</td>\n",
       "      <td>Central</td>\n",
       "      <td>Consumer</td>\n",
       "      <td>Office Supplies</td>\n",
       "      <td>Binders and Binder Accessories</td>\n",
       "      <td>Acco Pressboard Covers with Storage Hooks, 14 ...</td>\n",
       "      <td>Small Box</td>\n",
       "      <td>0.36</td>\n",
       "      <td>2008-11-14</td>\n",
       "    </tr>\n",
       "  </tbody>\n",
       "</table>\n",
       "</div>"
      ],
      "text/plain": [
       "            orderid  orderpriority  orderquantity     sales  discount  \\\n",
       "orderdate                                                               \n",
       "2008-11-13    32418  Not Specified              5  1244.190      0.08   \n",
       "2008-11-13     1028           High              6   165.750      0.03   \n",
       "2008-11-13     1028           High             11  2021.147      0.01   \n",
       "2008-11-13    57253       Critical             29   653.540      0.06   \n",
       "2008-11-13    57253       Critical             49   240.300      0.08   \n",
       "\n",
       "                  shipmode     profit  unitprice  shippingcost  \\\n",
       "orderdate                                                        \n",
       "2008-11-13  Delivery Truck  -131.3100     243.98         43.32   \n",
       "2008-11-13     Regular Air   -28.4600      28.48          1.99   \n",
       "2008-11-13     Regular Air   -60.3900     205.99          5.99   \n",
       "2008-11-13  Delivery Truck -1358.9000      20.98         53.03   \n",
       "2008-11-13     Regular Air  -154.6175       4.91          5.68   \n",
       "\n",
       "                   customername customerstate  zipcode   region  \\\n",
       "orderdate                                                         \n",
       "2008-11-13  Marina Lichtenstein      Michigan    49642  Central   \n",
       "2008-11-13         Matt Collins      Michigan    48001  Central   \n",
       "2008-11-13         Matt Collins      Michigan    48001  Central   \n",
       "2008-11-13          Darren Budd         Texas    73301  Central   \n",
       "2008-11-13          Darren Budd         Texas    73301  Central   \n",
       "\n",
       "           customersegment  productcategory             productsub-category  \\\n",
       "orderdate                                                                     \n",
       "2008-11-13       Corporate        Furniture              Chairs & Chairmats   \n",
       "2008-11-13        Consumer       Technology            Computer Peripherals   \n",
       "2008-11-13        Consumer       Technology    Telephones and Communication   \n",
       "2008-11-13        Consumer  Office Supplies          Storage & Organization   \n",
       "2008-11-13        Consumer  Office Supplies  Binders and Binder Accessories   \n",
       "\n",
       "                                                  productname  \\\n",
       "orderdate                                                       \n",
       "2008-11-13  Hon Deluxe Fabric Upholstered Stacking Chairs,...   \n",
       "2008-11-13                       Memorex 4.7GB DVD+RW, 3/Pack   \n",
       "2008-11-13                                               3285   \n",
       "2008-11-13                              Tennsco Lockers, Gray   \n",
       "2008-11-13  Acco Pressboard Covers with Storage Hooks, 14 ...   \n",
       "\n",
       "           productcontainer  productbasemargin   shipdate  \n",
       "orderdate                                                  \n",
       "2008-11-13       Jumbo Drum               0.55 2008-11-14  \n",
       "2008-11-13       Small Pack               0.40 2008-11-14  \n",
       "2008-11-13        Small Box               0.59 2008-11-15  \n",
       "2008-11-13       Jumbo Drum               0.78 2008-11-15  \n",
       "2008-11-13        Small Box               0.36 2008-11-14  "
      ]
     },
     "execution_count": 13,
     "metadata": {},
     "output_type": "execute_result"
    }
   ],
   "source": [
    "# sort the data by datatimeindex\n",
    "df = df.sort_index()\n",
    "df.head()"
   ]
  },
  {
   "cell_type": "markdown",
   "metadata": {},
   "source": [
    "# Exploratory Data Analysis"
   ]
  },
  {
   "cell_type": "markdown",
   "metadata": {},
   "source": [
    "## Summary Questions"
   ]
  },
  {
   "cell_type": "markdown",
   "metadata": {},
   "source": [
    "### What is the total sales volume? "
   ]
  },
  {
   "cell_type": "code",
   "execution_count": 14,
   "metadata": {},
   "outputs": [
    {
     "name": "stdout",
     "output_type": "stream",
     "text": [
      "The total sales volume is:  14907053.25\n"
     ]
    }
   ],
   "source": [
    "print('The total sales volume is: ', round(df['sales'].sum(), 2))"
   ]
  },
  {
   "cell_type": "markdown",
   "metadata": {},
   "source": [
    "### What is the total profit?"
   ]
  },
  {
   "cell_type": "code",
   "execution_count": 15,
   "metadata": {},
   "outputs": [
    {
     "name": "stdout",
     "output_type": "stream",
     "text": [
      "The total profit is:  1523588.63\n"
     ]
    }
   ],
   "source": [
    "print('The total profit is: ',round(df['profit'].sum(), 2))"
   ]
  },
  {
   "cell_type": "markdown",
   "metadata": {},
   "source": [
    "## Time series visualization"
   ]
  },
  {
   "cell_type": "markdown",
   "metadata": {},
   "source": [
    "### Visualize the sales"
   ]
  },
  {
   "cell_type": "code",
   "execution_count": 16,
   "metadata": {
    "scrolled": true
   },
   "outputs": [
    {
     "data": {
      "text/plain": [
       "Text(0, 0.5, 'Sales')"
      ]
     },
     "execution_count": 16,
     "metadata": {},
     "output_type": "execute_result"
    },
    {
     "data": {
      "image/png": "[encoded data removed]",
      "text/plain": [
       "<Figure size 640x480 with 1 Axes>"
      ]
     },
     "metadata": {},
     "output_type": "display_data"
    }
   ],
   "source": [
    "# Visualize the yearly sales volume (Use resample())\n",
    "df.resample('Y').agg({'sales':'sum'}).plot()\n",
    "plt.title('Yearly Sales Volume')\n",
    "plt.xlabel('Year')\n",
    "plt.ylabel('Sales')"
   ]
  },
  {
   "cell_type": "code",
   "execution_count": 17,
   "metadata": {},
   "outputs": [
    {
     "data": {
      "text/plain": [
       "<AxesSubplot: xlabel='orderdate'>"
      ]
     },
     "execution_count": 17,
     "metadata": {},
     "output_type": "execute_result"
    },
    {
     "data": {
      "image/png": "[encoded data removed]",
      "text/plain": [
       "<Figure size 1200x1200 with 1 Axes>"
      ]
     },
     "metadata": {},
     "output_type": "display_data"
    }
   ],
   "source": [
    "# Visualize the monthly sales volume (Use resample())\n",
    "df.resample('M').agg({'sales':'sum'}).plot(kind = 'bar', figsize = (12, 12),\n",
    "                                          edgecolor = 'black', facecolor = 'yellowgreen')\n"
   ]
  },
  {
   "cell_type": "markdown",
   "metadata": {},
   "source": [
    "# Business Intellience: Detailed Questions"
   ]
  },
  {
   "cell_type": "markdown",
   "metadata": {},
   "source": [
    "### What is the sales volume for each 'product category', and which category is performing well?"
   ]
  },
  {
   "cell_type": "code",
   "execution_count": 18,
   "metadata": {},
   "outputs": [
    {
     "data": {
      "text/plain": [
       "<pandas.core.groupby.generic.DataFrameGroupBy object at 0x00000281508703D0>"
      ]
     },
     "execution_count": 18,
     "metadata": {},
     "output_type": "execute_result"
    }
   ],
   "source": [
    "df.groupby('productcategory') # that colmn has to be categorical "
   ]
  },
  {
   "cell_type": "code",
   "execution_count": 19,
   "metadata": {},
   "outputs": [
    {
     "data": {
      "text/plain": [
       "Text(0, 0.5, '')"
      ]
     },
     "execution_count": 19,
     "metadata": {},
     "output_type": "execute_result"
    },
    {
     "data": {
      "image/png": "[encoded data removed]",
      "text/plain": [
       "<Figure size 600x600 with 1 Axes>"
      ]
     },
     "metadata": {},
     "output_type": "display_data"
    }
   ],
   "source": [
    "g = df.groupby('productcategory')['sales'].sum()\n",
    "\n",
    "g.plot(kind='pie', \n",
    "       autopct='%.2f', fontsize=12, figsize=(6, 6));\n",
    "\n",
    "plt.xlabel('Sales by category')\n",
    "plt.ylabel('')"
   ]
  },
  {
   "cell_type": "markdown",
   "metadata": {},
   "source": [
    "I would expect the Technology product category to outperform the other two product categories.\n",
    "\n",
    "Now, take a closer look at the sub-categories within the Technology product category."
   ]
  },
  {
   "cell_type": "markdown",
   "metadata": {},
   "source": [
    "### Which productsub-category within the Technology product category is the best in terms of sales?"
   ]
  },
  {
   "cell_type": "code",
   "execution_count": 20,
   "metadata": {},
   "outputs": [],
   "source": [
    "# Create a new data frame for Technology category \n",
    "Technology_sales = df[df['productcategory'] == 'Technology']"
   ]
  },
  {
   "cell_type": "code",
   "execution_count": 21,
   "metadata": {},
   "outputs": [
    {
     "data": {
      "text/plain": [
       "productsub-category\n",
       "Office Machines                 2171342.760\n",
       "Telephones and Communication    1889313.802\n",
       "Copiers and Fax                 1130361.300\n",
       "Computer Peripherals             796553.540\n",
       "Name: sales, dtype: float64"
      ]
     },
     "execution_count": 21,
     "metadata": {},
     "output_type": "execute_result"
    }
   ],
   "source": [
    "# groupby sub categories and sort values\n",
    "Technology_sales.groupby('productsub-category')['sales'].sum().sort_values(ascending = False)"
   ]
  },
  {
   "cell_type": "code",
   "execution_count": 22,
   "metadata": {},
   "outputs": [],
   "source": [
    "# Alternatively, without splitting the data frame \n",
    "# group the values by product category and sub category \n",
    "grouped_sales = df.groupby(['productcategory', 'productsub-category'])['sales'].sum()"
   ]
  },
  {
   "cell_type": "code",
   "execution_count": 23,
   "metadata": {},
   "outputs": [
    {
     "data": {
      "text/html": [
       "<div>\n",
       "<style scoped>\n",
       "    .dataframe tbody tr th:only-of-type {\n",
       "        vertical-align: middle;\n",
       "    }\n",
       "\n",
       "    .dataframe tbody tr th {\n",
       "        vertical-align: top;\n",
       "    }\n",
       "\n",
       "    .dataframe thead th {\n",
       "        text-align: right;\n",
       "    }\n",
       "</style>\n",
       "<table border=\"1\" class=\"dataframe\">\n",
       "  <thead>\n",
       "    <tr style=\"text-align: right;\">\n",
       "      <th></th>\n",
       "      <th>productcategory</th>\n",
       "      <th>productsub-category</th>\n",
       "      <th>sales</th>\n",
       "    </tr>\n",
       "  </thead>\n",
       "  <tbody>\n",
       "    <tr>\n",
       "      <th>3</th>\n",
       "      <td>Furniture</td>\n",
       "      <td>Tables</td>\n",
       "      <td>1887214.932</td>\n",
       "    </tr>\n",
       "    <tr>\n",
       "      <th>1</th>\n",
       "      <td>Furniture</td>\n",
       "      <td>Chairs &amp; Chairmats</td>\n",
       "      <td>1744144.730</td>\n",
       "    </tr>\n",
       "    <tr>\n",
       "      <th>0</th>\n",
       "      <td>Furniture</td>\n",
       "      <td>Bookcases</td>\n",
       "      <td>821982.470</td>\n",
       "    </tr>\n",
       "    <tr>\n",
       "      <th>2</th>\n",
       "      <td>Furniture</td>\n",
       "      <td>Office Furnishings</td>\n",
       "      <td>665912.350</td>\n",
       "    </tr>\n",
       "    <tr>\n",
       "      <th>12</th>\n",
       "      <td>Office Supplies</td>\n",
       "      <td>Storage &amp; Organization</td>\n",
       "      <td>1099774.360</td>\n",
       "    </tr>\n",
       "    <tr>\n",
       "      <th>5</th>\n",
       "      <td>Office Supplies</td>\n",
       "      <td>Binders and Binder Accessories</td>\n",
       "      <td>1024521.850</td>\n",
       "    </tr>\n",
       "    <tr>\n",
       "      <th>4</th>\n",
       "      <td>Office Supplies</td>\n",
       "      <td>Appliances</td>\n",
       "      <td>747333.010</td>\n",
       "    </tr>\n",
       "    <tr>\n",
       "      <th>8</th>\n",
       "      <td>Office Supplies</td>\n",
       "      <td>Paper</td>\n",
       "      <td>449496.470</td>\n",
       "    </tr>\n",
       "    <tr>\n",
       "      <th>6</th>\n",
       "      <td>Office Supplies</td>\n",
       "      <td>Envelopes</td>\n",
       "      <td>176298.060</td>\n",
       "    </tr>\n",
       "    <tr>\n",
       "      <th>9</th>\n",
       "      <td>Office Supplies</td>\n",
       "      <td>Pens &amp; Art Supplies</td>\n",
       "      <td>167525.030</td>\n",
       "    </tr>\n",
       "    <tr>\n",
       "      <th>11</th>\n",
       "      <td>Office Supplies</td>\n",
       "      <td>Scissors, Rulers and Trimmers</td>\n",
       "      <td>80996.310</td>\n",
       "    </tr>\n",
       "    <tr>\n",
       "      <th>7</th>\n",
       "      <td>Office Supplies</td>\n",
       "      <td>Labels</td>\n",
       "      <td>39042.350</td>\n",
       "    </tr>\n",
       "    <tr>\n",
       "      <th>10</th>\n",
       "      <td>Office Supplies</td>\n",
       "      <td>Rubber Bands</td>\n",
       "      <td>15239.930</td>\n",
       "    </tr>\n",
       "    <tr>\n",
       "      <th>15</th>\n",
       "      <td>Technology</td>\n",
       "      <td>Office Machines</td>\n",
       "      <td>2171342.760</td>\n",
       "    </tr>\n",
       "    <tr>\n",
       "      <th>16</th>\n",
       "      <td>Technology</td>\n",
       "      <td>Telephones and Communication</td>\n",
       "      <td>1889313.802</td>\n",
       "    </tr>\n",
       "    <tr>\n",
       "      <th>14</th>\n",
       "      <td>Technology</td>\n",
       "      <td>Copiers and Fax</td>\n",
       "      <td>1130361.300</td>\n",
       "    </tr>\n",
       "    <tr>\n",
       "      <th>13</th>\n",
       "      <td>Technology</td>\n",
       "      <td>Computer Peripherals</td>\n",
       "      <td>796553.540</td>\n",
       "    </tr>\n",
       "  </tbody>\n",
       "</table>\n",
       "</div>"
      ],
      "text/plain": [
       "    productcategory             productsub-category        sales\n",
       "3         Furniture                          Tables  1887214.932\n",
       "1         Furniture              Chairs & Chairmats  1744144.730\n",
       "0         Furniture                       Bookcases   821982.470\n",
       "2         Furniture              Office Furnishings   665912.350\n",
       "12  Office Supplies          Storage & Organization  1099774.360\n",
       "5   Office Supplies  Binders and Binder Accessories  1024521.850\n",
       "4   Office Supplies                      Appliances   747333.010\n",
       "8   Office Supplies                           Paper   449496.470\n",
       "6   Office Supplies                       Envelopes   176298.060\n",
       "9   Office Supplies             Pens & Art Supplies   167525.030\n",
       "11  Office Supplies   Scissors, Rulers and Trimmers    80996.310\n",
       "7   Office Supplies                          Labels    39042.350\n",
       "10  Office Supplies                    Rubber Bands    15239.930\n",
       "15       Technology                 Office Machines  2171342.760\n",
       "16       Technology    Telephones and Communication  1889313.802\n",
       "14       Technology                 Copiers and Fax  1130361.300\n",
       "13       Technology            Computer Peripherals   796553.540"
      ]
     },
     "execution_count": 23,
     "metadata": {},
     "output_type": "execute_result"
    }
   ],
   "source": [
    "# sort the grouped sales values \n",
    "grouped_sales.reset_index().sort_values(by=['productcategory', 'sales'], ascending=[True, False])"
   ]
  },
  {
   "cell_type": "markdown",
   "metadata": {},
   "source": [
    "### What are the top two product categories in terms of profit?"
   ]
  },
  {
   "cell_type": "code",
   "execution_count": 24,
   "metadata": {},
   "outputs": [
    {
     "data": {
      "text/plain": [
       "productcategory\n",
       "Technology         855437.2250\n",
       "Office Supplies    515776.6045\n",
       "Name: profit, dtype: float64"
      ]
     },
     "execution_count": 24,
     "metadata": {},
     "output_type": "execute_result"
    }
   ],
   "source": [
    "df.groupby('productcategory')['profit'].sum().sort_values(ascending = False).head(2)"
   ]
  },
  {
   "cell_type": "markdown",
   "metadata": {},
   "source": [
    "### Which region is more profitable compared to other regions? Are any regions experiencing financial losses? (Include product categories in this analysis.)"
   ]
  },
  {
   "cell_type": "code",
   "execution_count": 25,
   "metadata": {},
   "outputs": [
    {
     "data": {
      "text/plain": [
       "region\n",
       "South      505678.7515\n",
       "West       422868.1505\n",
       "East       297802.5185\n",
       "Central    297239.2090\n",
       "Name: profit, dtype: float64"
      ]
     },
     "execution_count": 25,
     "metadata": {},
     "output_type": "execute_result"
    }
   ],
   "source": [
    "# Profit based on region only \n",
    "df.groupby('region')['profit'].sum().sort_values(ascending = False)"
   ]
  },
  {
   "cell_type": "code",
   "execution_count": 26,
   "metadata": {},
   "outputs": [
    {
     "data": {
      "text/plain": [
       "region   productcategory\n",
       "South    Technology         302117.5900\n",
       "West     Technology         219514.0210\n",
       "East     Technology         203053.3850\n",
       "West     Office Supplies    145669.4595\n",
       "South    Office Supplies    140659.2615\n",
       "Central  Technology         130752.2290\n",
       "         Office Supplies    121977.2900\n",
       "East     Office Supplies    107470.5935\n",
       "South    Furniture           62901.9000\n",
       "West     Furniture           57684.6700\n",
       "Central  Furniture           44509.6900\n",
       "East     Furniture          -12721.4600\n",
       "Name: profit, dtype: float64"
      ]
     },
     "execution_count": 26,
     "metadata": {},
     "output_type": "execute_result"
    }
   ],
   "source": [
    "# profit based on region and product category\n",
    "df.groupby(['region', 'productcategory'])['profit'].sum().sort_values(ascending = False)"
   ]
  },
  {
   "cell_type": "markdown",
   "metadata": {},
   "source": [
    "Southern region is the most porfitable compared to others. Eastern regioin is experiencing financial losses in Furniture sales. "
   ]
  },
  {
   "cell_type": "markdown",
   "metadata": {},
   "source": [
    "### Which state in the East is least profitable? Include Product Category in your analysis. "
   ]
  },
  {
   "cell_type": "code",
   "execution_count": 27,
   "metadata": {},
   "outputs": [],
   "source": [
    "# create a new data frame for teh eastern region \n",
    "df_east = df[df['region'] == 'East']"
   ]
  },
  {
   "cell_type": "code",
   "execution_count": 28,
   "metadata": {},
   "outputs": [
    {
     "data": {
      "text/plain": [
       "customerstate  productcategory\n",
       "New Jersey     Furniture         -18171.95\n",
       "Connecticut    Furniture         -12852.13\n",
       "Mass           Furniture          -5651.18\n",
       "Name: profit, dtype: float64"
      ]
     },
     "execution_count": 28,
     "metadata": {},
     "output_type": "execute_result"
    }
   ],
   "source": [
    "# Profit based state and procuct category \n",
    "df_east.groupby(['customerstate', 'productcategory'])['profit'].sum().sort_values(ascending = True).head(3)"
   ]
  },
  {
   "cell_type": "markdown",
   "metadata": {},
   "source": [
    "New Jersey is the least profitable state in the Eastern region. The major loss comes from Furniture category. "
   ]
  },
  {
   "cell_type": "markdown",
   "metadata": {},
   "source": [
    "### Nebraska\n",
    "\n",
    "The following two questions are limited to the State of Nebraska."
   ]
  },
  {
   "cell_type": "markdown",
   "metadata": {},
   "source": [
    "#### For the State of Nebraska, which year was the least profitable? Which product was the least profitable?"
   ]
  },
  {
   "cell_type": "code",
   "execution_count": 29,
   "metadata": {},
   "outputs": [
    {
     "data": {
      "text/plain": [
       "orderdate   productname                                                  \n",
       "2009-01-21  Polycom ViewStation™ ISDN Videoconferencing Unit                -16253.68\n",
       "2008-11-19  Riverside Palais Royal Lawyers Bookcase, Royale Cherry Finish   -11053.60\n",
       "2009-12-01  Okidata Pacemark 4410N Wide Format Dot Matrix Printer            -9643.07\n",
       "Name: profit, dtype: float64"
      ]
     },
     "execution_count": 29,
     "metadata": {},
     "output_type": "execute_result"
    }
   ],
   "source": [
    "# create a new data frame specific to Nebraska \n",
    "df_Nebraska = df[df['customerstate'] == 'Nebraska']\n",
    "\n",
    "# Profit based year and procuct category \n",
    "df_east.groupby(['orderdate', 'productname'])['profit'].sum().sort_values(ascending = True).head(3)"
   ]
  },
  {
   "cell_type": "markdown",
   "metadata": {},
   "source": [
    "The least profitable year for Nebraska was 2009 for sales of Polycom ViewStation™ ISDN Videoconferencing Unit"
   ]
  },
  {
   "cell_type": "markdown",
   "metadata": {},
   "source": [
    "#### Which geographic region ('zipcode') in Nebraska is the most profitable?"
   ]
  },
  {
   "cell_type": "code",
   "execution_count": 30,
   "metadata": {},
   "outputs": [
    {
     "data": {
      "text/plain": [
       "zipcode\n",
       "2139     25907.3925\n",
       "8823     21243.5080\n",
       "14210    21210.3110\n",
       "Name: profit, dtype: float64"
      ]
     },
     "execution_count": 30,
     "metadata": {},
     "output_type": "execute_result"
    }
   ],
   "source": [
    "# Profit based Zipcode \n",
    "df_east.groupby('zipcode')['profit'].sum().sort_values(ascending = False).head(3)"
   ]
  },
  {
   "cell_type": "markdown",
   "metadata": {},
   "source": [
    "Zipcode 2139 is the most profitable region in Nebraska. "
   ]
  },
  {
   "cell_type": "markdown",
   "metadata": {},
   "source": [
    "### Overall, which types of furniture are unprofitable?"
   ]
  },
  {
   "cell_type": "code",
   "execution_count": 31,
   "metadata": {},
   "outputs": [],
   "source": [
    "# create a new data frame specific to Furniture\n",
    "df_Furniture = df[df['productcategory'] == 'Furniture']"
   ]
  },
  {
   "cell_type": "code",
   "execution_count": 32,
   "metadata": {},
   "outputs": [
    {
     "data": {
      "text/plain": [
       "productsub-category\n",
       "Tables                -61271.15\n",
       "Bookcases             -33170.68\n",
       "Office Furnishings     96878.40\n",
       "Chairs & Chairmats    149938.23\n",
       "Name: profit, dtype: float64"
      ]
     },
     "execution_count": 32,
     "metadata": {},
     "output_type": "execute_result"
    }
   ],
   "source": [
    "df_Furniture.groupby('productsub-category')['profit'].sum().sort_values(ascending = True).head()"
   ]
  },
  {
   "cell_type": "markdown",
   "metadata": {},
   "source": [
    "Tables are the most unprofitable furniture followed by Bookcases and Office Furnishings "
   ]
  },
  {
   "cell_type": "markdown",
   "metadata": {},
   "source": [
    "### Overall, which office supplies are the most profitable, and which ones require improvements in sales and profits?"
   ]
  },
  {
   "cell_type": "code",
   "execution_count": 33,
   "metadata": {},
   "outputs": [],
   "source": [
    "# create a new data frame specific to Office supplies \n",
    "df_Office_Supplies = df[df['productcategory'] == 'Office Supplies']"
   ]
  },
  {
   "cell_type": "code",
   "execution_count": 34,
   "metadata": {},
   "outputs": [
    {
     "data": {
      "text/plain": [
       "productsub-category\n",
       "Binders and Binder Accessories    307174.1845\n",
       "Appliances                         98023.0800\n",
       "Envelopes                          48711.0800\n",
       "Name: profit, dtype: float64"
      ]
     },
     "execution_count": 34,
     "metadata": {},
     "output_type": "execute_result"
    }
   ],
   "source": [
    "# most profitable office supplies \n",
    "df_Office_Supplies.groupby('productsub-category')['profit'].sum().sort_values(ascending = False).head(3)"
   ]
  },
  {
   "cell_type": "markdown",
   "metadata": {},
   "source": [
    "Binders and Binder Accessories is the most profitable office supplies "
   ]
  },
  {
   "cell_type": "code",
   "execution_count": 35,
   "metadata": {},
   "outputs": [
    {
     "data": {
      "text/plain": [
       "productsub-category\n",
       "Scissors, Rulers and Trimmers   -7799.25\n",
       "Rubber Bands                      -77.59\n",
       "Storage & Organization           2516.94\n",
       "Name: profit, dtype: float64"
      ]
     },
     "execution_count": 35,
     "metadata": {},
     "output_type": "execute_result"
    }
   ],
   "source": [
    "# least profitable office supplies \n",
    "df_Office_Supplies.groupby('productsub-category')['profit'].sum().sort_values(ascending = True).head(3)"
   ]
  },
  {
   "cell_type": "code",
   "execution_count": 36,
   "metadata": {},
   "outputs": [
    {
     "data": {
      "text/plain": [
       "productsub-category\n",
       "Rubber Bands                     15239.93\n",
       "Labels                           39042.35\n",
       "Scissors, Rulers and Trimmers    80996.31\n",
       "Name: sales, dtype: float64"
      ]
     },
     "execution_count": 36,
     "metadata": {},
     "output_type": "execute_result"
    }
   ],
   "source": [
    "# low sales volume office supplies \n",
    "df_Office_Supplies.groupby('productsub-category')['sales'].sum().sort_values(ascending = True).head(3)"
   ]
  },
  {
   "cell_type": "markdown",
   "metadata": {},
   "source": [
    "- In terms of profit Scissors, Rulers and Trimmers need improvement. \n",
    "- In terms of volume sales, Rubber Bands need improvement."
   ]
  },
  {
   "cell_type": "markdown",
   "metadata": {},
   "source": [
    "### Which types of technology products are profitable?"
   ]
  },
  {
   "cell_type": "code",
   "execution_count": 37,
   "metadata": {},
   "outputs": [],
   "source": [
    "# create a new data frame specific to Technology\n",
    "df_Technology = df[df['productcategory'] == 'Technology']"
   ]
  },
  {
   "cell_type": "code",
   "execution_count": 38,
   "metadata": {},
   "outputs": [
    {
     "data": {
      "text/plain": [
       "productsub-category\n",
       "Telephones and Communication    316951.641\n",
       "Office Machines                 276590.340\n",
       "Copiers and Fax                 167361.464\n",
       "Name: profit, dtype: float64"
      ]
     },
     "execution_count": 38,
     "metadata": {},
     "output_type": "execute_result"
    }
   ],
   "source": [
    "df_Technology.groupby('productsub-category')['profit'].sum().sort_values(ascending = False).head(3)"
   ]
  },
  {
   "cell_type": "markdown",
   "metadata": {},
   "source": [
    "### Is there any relationship (or correlation) between “profits” and “sales”? Display the results of a statistical analysis and or visualization.\n",
    "\n",
    "You can use visualization (e.g., scatter plot) and/or correlation analysis (e.g., corr())"
   ]
  },
  {
   "cell_type": "code",
   "execution_count": 39,
   "metadata": {},
   "outputs": [
    {
     "data": {
      "text/html": [
       "<div>\n",
       "<style scoped>\n",
       "    .dataframe tbody tr th:only-of-type {\n",
       "        vertical-align: middle;\n",
       "    }\n",
       "\n",
       "    .dataframe tbody tr th {\n",
       "        vertical-align: top;\n",
       "    }\n",
       "\n",
       "    .dataframe thead th {\n",
       "        text-align: right;\n",
       "    }\n",
       "</style>\n",
       "<table border=\"1\" class=\"dataframe\">\n",
       "  <thead>\n",
       "    <tr style=\"text-align: right;\">\n",
       "      <th></th>\n",
       "      <th>orderid</th>\n",
       "      <th>orderquantity</th>\n",
       "      <th>sales</th>\n",
       "      <th>discount</th>\n",
       "      <th>profit</th>\n",
       "      <th>unitprice</th>\n",
       "      <th>shippingcost</th>\n",
       "      <th>zipcode</th>\n",
       "      <th>productbasemargin</th>\n",
       "    </tr>\n",
       "  </thead>\n",
       "  <tbody>\n",
       "    <tr>\n",
       "      <th>orderid</th>\n",
       "      <td>1.000000</td>\n",
       "      <td>0.011461</td>\n",
       "      <td>-0.006822</td>\n",
       "      <td>-0.003568</td>\n",
       "      <td>-0.005849</td>\n",
       "      <td>-0.003867</td>\n",
       "      <td>-0.003857</td>\n",
       "      <td>-0.011369</td>\n",
       "      <td>-0.024529</td>\n",
       "    </tr>\n",
       "    <tr>\n",
       "      <th>orderquantity</th>\n",
       "      <td>0.011461</td>\n",
       "      <td>1.000000</td>\n",
       "      <td>0.220413</td>\n",
       "      <td>-0.010160</td>\n",
       "      <td>0.196062</td>\n",
       "      <td>-0.104341</td>\n",
       "      <td>-0.012162</td>\n",
       "      <td>0.017114</td>\n",
       "      <td>0.006781</td>\n",
       "    </tr>\n",
       "    <tr>\n",
       "      <th>sales</th>\n",
       "      <td>-0.006822</td>\n",
       "      <td>0.220413</td>\n",
       "      <td>1.000000</td>\n",
       "      <td>-0.018951</td>\n",
       "      <td>0.577657</td>\n",
       "      <td>0.602518</td>\n",
       "      <td>0.434261</td>\n",
       "      <td>-0.011301</td>\n",
       "      <td>0.157456</td>\n",
       "    </tr>\n",
       "    <tr>\n",
       "      <th>discount</th>\n",
       "      <td>-0.003568</td>\n",
       "      <td>-0.010160</td>\n",
       "      <td>-0.018951</td>\n",
       "      <td>1.000000</td>\n",
       "      <td>-0.038563</td>\n",
       "      <td>0.001760</td>\n",
       "      <td>-0.000269</td>\n",
       "      <td>0.002057</td>\n",
       "      <td>0.005559</td>\n",
       "    </tr>\n",
       "    <tr>\n",
       "      <th>profit</th>\n",
       "      <td>-0.005849</td>\n",
       "      <td>0.196062</td>\n",
       "      <td>0.577657</td>\n",
       "      <td>-0.038563</td>\n",
       "      <td>1.000000</td>\n",
       "      <td>-0.035542</td>\n",
       "      <td>-0.018124</td>\n",
       "      <td>-0.004923</td>\n",
       "      <td>-0.106292</td>\n",
       "    </tr>\n",
       "    <tr>\n",
       "      <th>unitprice</th>\n",
       "      <td>-0.003867</td>\n",
       "      <td>-0.104341</td>\n",
       "      <td>0.602518</td>\n",
       "      <td>0.001760</td>\n",
       "      <td>-0.035542</td>\n",
       "      <td>1.000000</td>\n",
       "      <td>0.239953</td>\n",
       "      <td>-0.007564</td>\n",
       "      <td>0.058523</td>\n",
       "    </tr>\n",
       "    <tr>\n",
       "      <th>shippingcost</th>\n",
       "      <td>-0.003857</td>\n",
       "      <td>-0.012162</td>\n",
       "      <td>0.434261</td>\n",
       "      <td>-0.000269</td>\n",
       "      <td>-0.018124</td>\n",
       "      <td>0.239953</td>\n",
       "      <td>1.000000</td>\n",
       "      <td>-0.018904</td>\n",
       "      <td>0.374660</td>\n",
       "    </tr>\n",
       "    <tr>\n",
       "      <th>zipcode</th>\n",
       "      <td>-0.011369</td>\n",
       "      <td>0.017114</td>\n",
       "      <td>-0.011301</td>\n",
       "      <td>0.002057</td>\n",
       "      <td>-0.004923</td>\n",
       "      <td>-0.007564</td>\n",
       "      <td>-0.018904</td>\n",
       "      <td>1.000000</td>\n",
       "      <td>0.006904</td>\n",
       "    </tr>\n",
       "    <tr>\n",
       "      <th>productbasemargin</th>\n",
       "      <td>-0.024529</td>\n",
       "      <td>0.006781</td>\n",
       "      <td>0.157456</td>\n",
       "      <td>0.005559</td>\n",
       "      <td>-0.106292</td>\n",
       "      <td>0.058523</td>\n",
       "      <td>0.374660</td>\n",
       "      <td>0.006904</td>\n",
       "      <td>1.000000</td>\n",
       "    </tr>\n",
       "  </tbody>\n",
       "</table>\n",
       "</div>"
      ],
      "text/plain": [
       "                    orderid  orderquantity     sales  discount    profit  \\\n",
       "orderid            1.000000       0.011461 -0.006822 -0.003568 -0.005849   \n",
       "orderquantity      0.011461       1.000000  0.220413 -0.010160  0.196062   \n",
       "sales             -0.006822       0.220413  1.000000 -0.018951  0.577657   \n",
       "discount          -0.003568      -0.010160 -0.018951  1.000000 -0.038563   \n",
       "profit            -0.005849       0.196062  0.577657 -0.038563  1.000000   \n",
       "unitprice         -0.003867      -0.104341  0.602518  0.001760 -0.035542   \n",
       "shippingcost      -0.003857      -0.012162  0.434261 -0.000269 -0.018124   \n",
       "zipcode           -0.011369       0.017114 -0.011301  0.002057 -0.004923   \n",
       "productbasemargin -0.024529       0.006781  0.157456  0.005559 -0.106292   \n",
       "\n",
       "                   unitprice  shippingcost   zipcode  productbasemargin  \n",
       "orderid            -0.003867     -0.003857 -0.011369          -0.024529  \n",
       "orderquantity      -0.104341     -0.012162  0.017114           0.006781  \n",
       "sales               0.602518      0.434261 -0.011301           0.157456  \n",
       "discount            0.001760     -0.000269  0.002057           0.005559  \n",
       "profit             -0.035542     -0.018124 -0.004923          -0.106292  \n",
       "unitprice           1.000000      0.239953 -0.007564           0.058523  \n",
       "shippingcost        0.239953      1.000000 -0.018904           0.374660  \n",
       "zipcode            -0.007564     -0.018904  1.000000           0.006904  \n",
       "productbasemargin   0.058523      0.374660  0.006904           1.000000  "
      ]
     },
     "execution_count": 39,
     "metadata": {},
     "output_type": "execute_result"
    }
   ],
   "source": [
    "# correlation analysis \n",
    "df.corr(numeric_only=True)"
   ]
  },
  {
   "cell_type": "markdown",
   "metadata": {},
   "source": [
    "Sales and profit have a strong positive correlation (0.577657\t) with each other. "
   ]
  },
  {
   "cell_type": "code",
   "execution_count": 40,
   "metadata": {},
   "outputs": [
    {
     "data": {
      "image/png": "[encoded data removed]",
      "text/plain": [
       "<Figure size 800x800 with 2 Axes>"
      ]
     },
     "metadata": {},
     "output_type": "display_data"
    }
   ],
   "source": [
    "# correlation plot\n",
    "plt.figure(figsize=(8,8))\n",
    "sns.heatmap(df.corr(numeric_only = True), vmax=.8, square=True, annot=True, fmt=\".1f\");"
   ]
  },
  {
   "cell_type": "markdown",
   "metadata": {},
   "source": [
    "### Overall, which year is least profitable? \n",
    "- Ignore year 2008 since it has only two months in the data"
   ]
  },
  {
   "cell_type": "code",
   "execution_count": 41,
   "metadata": {
    "scrolled": true
   },
   "outputs": [
    {
     "data": {
      "text/plain": [
       "orderdate\n",
       "2012-12-31    291141.9190\n",
       "2010-12-31    337239.4165\n",
       "2009-12-31    406718.5260\n",
       "2011-12-31    419755.3845\n",
       "Name: profit, dtype: float64"
      ]
     },
     "execution_count": 41,
     "metadata": {},
     "output_type": "execute_result"
    }
   ],
   "source": [
    "# create a new data frame that  excludes 2008\n",
    "df_year = df[df.index.year != 2008]\n",
    "\n",
    "#group and sort \n",
    "df_year.resample('Y')['profit'].sum().sort_values(ascending = True)"
   ]
  },
  {
   "cell_type": "markdown",
   "metadata": {},
   "source": [
    "The least profitable year is 2012."
   ]
  },
  {
   "cell_type": "markdown",
   "metadata": {},
   "source": [
    "# Drill Down: What happend in 2009 & January 2009?"
   ]
  },
  {
   "cell_type": "markdown",
   "metadata": {},
   "source": [
    "## Let's focus on the year 2009 and answer some questions below"
   ]
  },
  {
   "cell_type": "code",
   "execution_count": 42,
   "metadata": {},
   "outputs": [],
   "source": [
    "# create a new data frame for year 2009\n",
    "df_year_2009 = df[df.index.year == 2009]"
   ]
  },
  {
   "cell_type": "markdown",
   "metadata": {},
   "source": [
    "### Which region performed so poorly? (in terms of profit)"
   ]
  },
  {
   "cell_type": "code",
   "execution_count": 43,
   "metadata": {
    "scrolled": true
   },
   "outputs": [
    {
     "data": {
      "text/plain": [
       "region\n",
       "East        46657.2375\n",
       "Central     78111.7495\n",
       "West       121861.4615\n",
       "South      160088.0775\n",
       "Name: profit, dtype: float64"
      ]
     },
     "execution_count": 43,
     "metadata": {},
     "output_type": "execute_result"
    }
   ],
   "source": [
    "df_year_2009.groupby('region')['profit'].sum().sort_values(ascending = True)"
   ]
  },
  {
   "cell_type": "markdown",
   "metadata": {},
   "source": [
    "Eastern region performed the poorest in terms of profit in 2009. "
   ]
  },
  {
   "cell_type": "markdown",
   "metadata": {},
   "source": [
    "### Which zip code areas performed poorly?"
   ]
  },
  {
   "cell_type": "code",
   "execution_count": 44,
   "metadata": {
    "scrolled": true
   },
   "outputs": [
    {
     "data": {
      "text/plain": [
       "zipcode\n",
       "10501   -16557.0850\n",
       "35077   -11928.9000\n",
       "93456   -11522.6075\n",
       "Name: profit, dtype: float64"
      ]
     },
     "execution_count": 44,
     "metadata": {},
     "output_type": "execute_result"
    }
   ],
   "source": [
    "df_year_2009.groupby('zipcode')['profit'].sum().sort_values(ascending = True).head(3)"
   ]
  },
  {
   "cell_type": "markdown",
   "metadata": {},
   "source": [
    "10501, 35077, 93456 are the top three zip codes that performed poorly. "
   ]
  },
  {
   "cell_type": "markdown",
   "metadata": {},
   "source": [
    "### Which product category performed so poorly?"
   ]
  },
  {
   "cell_type": "code",
   "execution_count": 45,
   "metadata": {},
   "outputs": [
    {
     "data": {
      "text/plain": [
       "productcategory\n",
       "Furniture           71904.900\n",
       "Office Supplies    167174.061\n",
       "Technology         167639.565\n",
       "Name: profit, dtype: float64"
      ]
     },
     "execution_count": 45,
     "metadata": {},
     "output_type": "execute_result"
    }
   ],
   "source": [
    "df_year_2009.groupby('productcategory')['profit'].sum().sort_values(ascending = True).head(3)"
   ]
  },
  {
   "cell_type": "markdown",
   "metadata": {},
   "source": [
    "Furniture is the product category that performed the worst in the year 2009. "
   ]
  },
  {
   "cell_type": "markdown",
   "metadata": {},
   "source": [
    "### Which productsub-category performed so poorly?"
   ]
  },
  {
   "cell_type": "code",
   "execution_count": 46,
   "metadata": {},
   "outputs": [
    {
     "data": {
      "text/plain": [
       "productsub-category\n",
       "Tables                          -10621.34\n",
       "Scissors, Rulers and Trimmers    -2927.71\n",
       "Rubber Bands                        27.82\n",
       "Name: profit, dtype: float64"
      ]
     },
     "execution_count": 46,
     "metadata": {},
     "output_type": "execute_result"
    }
   ],
   "source": [
    "df_year_2009.groupby('productsub-category')['profit'].sum().sort_values(ascending = True).head(3)"
   ]
  },
  {
   "cell_type": "markdown",
   "metadata": {
    "scrolled": false
   },
   "source": [
    "Tables, Scissors, Rulers and Trimmers, and Rubber Bands are the top three product sub categories that performed poor. "
   ]
  },
  {
   "cell_type": "markdown",
   "metadata": {},
   "source": [
    "### Which product ('productname') performed so poorly?"
   ]
  },
  {
   "cell_type": "code",
   "execution_count": 47,
   "metadata": {
    "scrolled": true
   },
   "outputs": [
    {
     "data": {
      "text/plain": [
       "productname\n",
       "Okidata Pacemark 4410N Wide Format Dot Matrix Printer   -26610.81\n",
       "Epson DFX-8500 Dot Matrix Printer                       -23142.10\n",
       "Canon imageCLASS 2200 Advanced Copier                   -14830.99\n",
       "Name: profit, dtype: float64"
      ]
     },
     "execution_count": 47,
     "metadata": {},
     "output_type": "execute_result"
    }
   ],
   "source": [
    "df_year_2009.groupby('productname')['profit'].sum().sort_values(ascending = True).head(3)"
   ]
  },
  {
   "cell_type": "markdown",
   "metadata": {
    "scrolled": true
   },
   "source": [
    "Okidata Pacemark 4410N Wide Format Dot Matrix Printer is the worst performing product in terms of profit for the year 2009. "
   ]
  },
  {
   "cell_type": "markdown",
   "metadata": {},
   "source": [
    "## Let's focus on January 2009 and answer some questions below"
   ]
  },
  {
   "cell_type": "code",
   "execution_count": 48,
   "metadata": {},
   "outputs": [],
   "source": [
    "# Create a data frame for the month January and year 2009\n",
    "df_year_2009_Jan = df_year_2009[df_year_2009.index.month == 1] "
   ]
  },
  {
   "cell_type": "markdown",
   "metadata": {},
   "source": [
    "### Which region performed so poorly?"
   ]
  },
  {
   "cell_type": "code",
   "execution_count": 49,
   "metadata": {
    "scrolled": true
   },
   "outputs": [
    {
     "data": {
      "text/plain": [
       "region\n",
       "East      -12084.3320\n",
       "South       -463.1045\n",
       "Central     2516.9330\n",
       "West        3374.3950\n",
       "Name: profit, dtype: float64"
      ]
     },
     "execution_count": 49,
     "metadata": {},
     "output_type": "execute_result"
    }
   ],
   "source": [
    "df_year_2009_Jan.groupby('region')['profit'].sum().sort_values(ascending = True)"
   ]
  },
  {
   "cell_type": "markdown",
   "metadata": {},
   "source": [
    "Eastern region performed the worst in January 2009. "
   ]
  },
  {
   "cell_type": "markdown",
   "metadata": {},
   "source": [
    "### Which product category performed so poorly?"
   ]
  },
  {
   "cell_type": "code",
   "execution_count": 50,
   "metadata": {},
   "outputs": [
    {
     "data": {
      "text/plain": [
       "productcategory\n",
       "Technology        -10547.7010\n",
       "Office Supplies    -1516.0075\n",
       "Furniture           5407.6000\n",
       "Name: profit, dtype: float64"
      ]
     },
     "execution_count": 50,
     "metadata": {},
     "output_type": "execute_result"
    }
   ],
   "source": [
    "df_year_2009_Jan.groupby('productcategory')['profit'].sum().sort_values(ascending = True).head(3)"
   ]
  },
  {
   "cell_type": "markdown",
   "metadata": {},
   "source": [
    "Technology was the worst performing product category in January 2009 with a loss of 10547.7010. "
   ]
  },
  {
   "cell_type": "markdown",
   "metadata": {},
   "source": [
    "### Which productsub-category performed so poorly?"
   ]
  },
  {
   "cell_type": "code",
   "execution_count": 51,
   "metadata": {},
   "outputs": [
    {
     "data": {
      "text/plain": [
       "productsub-category\n",
       "Copiers and Fax          -8496.27\n",
       "Office Machines          -2435.86\n",
       "Storage & Organization   -2093.51\n",
       "Name: profit, dtype: float64"
      ]
     },
     "execution_count": 51,
     "metadata": {},
     "output_type": "execute_result"
    }
   ],
   "source": [
    "df_year_2009_Jan.groupby('productsub-category')['profit'].sum().sort_values(ascending = True).head(3)"
   ]
  },
  {
   "cell_type": "markdown",
   "metadata": {
    "scrolled": false
   },
   "source": [
    "Copiers and Fax was the worst performing product sub category in January 2009 with a loss of 10547.7010. "
   ]
  },
  {
   "cell_type": "markdown",
   "metadata": {},
   "source": [
    "### Which product performed so poorly?"
   ]
  },
  {
   "cell_type": "code",
   "execution_count": 52,
   "metadata": {
    "scrolled": true
   },
   "outputs": [
    {
     "data": {
      "text/plain": [
       "productname\n",
       "Polycom ViewStation™ ISDN Videoconferencing Unit   -16253.68\n",
       "Canon imageCLASS 2200 Advanced Copier              -11769.17\n",
       "High Speed Automatic Electric Letter Opener         -1759.58\n",
       "Name: profit, dtype: float64"
      ]
     },
     "execution_count": 52,
     "metadata": {},
     "output_type": "execute_result"
    }
   ],
   "source": [
    "df_year_2009_Jan.groupby('productname')['profit'].sum().sort_values(ascending = True).head(3)"
   ]
  },
  {
   "cell_type": "markdown",
   "metadata": {
    "scrolled": true
   },
   "source": [
    "Polycom ViewStation™ ISDN Videoconferencing Unit was the worst performing product in January 2009. "
   ]
  },
  {
   "cell_type": "markdown",
   "metadata": {},
   "source": [
    "# Your Own Questions"
   ]
  },
  {
   "cell_type": "markdown",
   "metadata": {},
   "source": [
    "## Q1"
   ]
  },
  {
   "cell_type": "code",
   "execution_count": 53,
   "metadata": {},
   "outputs": [
    {
     "data": {
      "text/plain": [
       "<AxesSubplot: xlabel='sales', ylabel='profit'>"
      ]
     },
     "execution_count": 53,
     "metadata": {},
     "output_type": "execute_result"
    },
    {
     "data": {
      "image/png": "[encoded data removed]",
      "text/plain": [
       "<Figure size 640x480 with 1 Axes>"
      ]
     },
     "metadata": {},
     "output_type": "display_data"
    }
   ],
   "source": [
    "# Visualization of relatonship between Sales and Profit \n",
    "sns.regplot(x='sales', y='profit', data=df, scatter_kws={'edgecolor': 'black', 'color': 'grey'})"
   ]
  },
  {
   "cell_type": "markdown",
   "metadata": {},
   "source": [
    "## Q2"
   ]
  },
  {
   "cell_type": "code",
   "execution_count": 54,
   "metadata": {},
   "outputs": [
    {
     "data": {
      "text/html": [
       "<div>\n",
       "<style scoped>\n",
       "    .dataframe tbody tr th:only-of-type {\n",
       "        vertical-align: middle;\n",
       "    }\n",
       "\n",
       "    .dataframe tbody tr th {\n",
       "        vertical-align: top;\n",
       "    }\n",
       "\n",
       "    .dataframe thead th {\n",
       "        text-align: right;\n",
       "    }\n",
       "</style>\n",
       "<table border=\"1\" class=\"dataframe\">\n",
       "  <thead>\n",
       "    <tr style=\"text-align: right;\">\n",
       "      <th></th>\n",
       "      <th>n</th>\n",
       "      <th>r</th>\n",
       "      <th>CI95%</th>\n",
       "      <th>p-val</th>\n",
       "      <th>BF10</th>\n",
       "      <th>power</th>\n",
       "    </tr>\n",
       "  </thead>\n",
       "  <tbody>\n",
       "    <tr>\n",
       "      <th>pearson</th>\n",
       "      <td>8399</td>\n",
       "      <td>0.577657</td>\n",
       "      <td>[0.56, 0.59]</td>\n",
       "      <td>0.0</td>\n",
       "      <td>inf</td>\n",
       "      <td>1.0</td>\n",
       "    </tr>\n",
       "  </tbody>\n",
       "</table>\n",
       "</div>"
      ],
      "text/plain": [
       "            n         r         CI95%  p-val BF10  power\n",
       "pearson  8399  0.577657  [0.56, 0.59]    0.0  inf    1.0"
      ]
     },
     "execution_count": 54,
     "metadata": {},
     "output_type": "execute_result"
    }
   ],
   "source": [
    "# Check if the correlation between sales and profit is significant \n",
    "import pingouin as pg\n",
    "pg.corr(x=df['sales'], y=df['profit'])"
   ]
  },
  {
   "cell_type": "markdown",
   "metadata": {},
   "source": [
    "As *p-value < 0.05* the storng positive correlatin between sales and profit is significant. "
   ]
  },
  {
   "cell_type": "markdown",
   "metadata": {},
   "source": [
    "## Q3"
   ]
  },
  {
   "cell_type": "markdown",
   "metadata": {},
   "source": [
    "# Your storytelling below:\n",
    "\n",
    "- The product category Technology outnumber all other categories in terms of sales volume. Within Technology, Office Machines contribute to most of the porfit. \n",
    "- The company need to shift focus towards furniture sales in the eastern region as they are experiencing financial loss in this region. \n",
    "- Surprisingly, Tables and Bookcases seem to be the most unprofitable Furniture types. \n",
    "- 2012 was the least profitable year among all. \n",
    "- Telephones and Communication are the most profitable technology products"
   ]
  },
  {
   "cell_type": "markdown",
   "metadata": {},
   "source": [
    "\n",
    "\n",
    "\n",
    "\n",
    "\n"
   ]
  }
 ],
 "metadata": {
  "kernelspec": {
   "display_name": "Python 3 (ipykernel)",
   "language": "python",
   "name": "python3"
  },
  "language_info": {
   "codemirror_mode": {
    "name": "ipython",
    "version": 3
   },
   "file_extension": ".py",
   "mimetype": "text/x-python",
   "name": "python",
   "nbconvert_exporter": "python",
   "pygments_lexer": "ipython3",
   "version": "3.11.5"
  },
  "toc": {
   "base_numbering": "0",
   "nav_menu": {},
   "number_sections": false,
   "sideBar": true,
   "skip_h1_title": false,
   "title_cell": "Table of Contents",
   "title_sidebar": "Contents",
   "toc_cell": false,
   "toc_position": {
    "height": "calc(100% - 180px)",
    "left": "10px",
    "top": "150px",
    "width": "165px"
   },
   "toc_section_display": true,
   "toc_window_display": true
  },
  "varInspector": {
   "cols": {
    "lenName": 16,
    "lenType": 16,
    "lenVar": 40
   },
   "kernels_config": {
    "python": {
     "delete_cmd_postfix": "",
     "delete_cmd_prefix": "del ",
     "library": "var_list.py",
     "varRefreshCmd": "print(var_dic_list())"
    },
    "r": {
     "delete_cmd_postfix": ") ",
     "delete_cmd_prefix": "rm(",
     "library": "var_list.r",
     "varRefreshCmd": "cat(var_dic_list()) "
    }
   },
   "types_to_exclude": [
    "module",
    "function",
    "builtin_function_or_method",
    "instance",
    "_Feature"
   ],
   "window_display": false
  }
 },
 "nbformat": 4,
 "nbformat_minor": 4
}
